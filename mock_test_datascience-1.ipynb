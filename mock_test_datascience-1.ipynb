{
 "cells": [
  {
   "cell_type": "markdown",
   "id": "c43e6982",
   "metadata": {},
   "source": [
    "# Write a function that takes a list of numbers as input and returns a new list containing only the even numbers from the input list. Use list comprehension to solve this problem.\n"
   ]
  },
  {
   "cell_type": "code",
   "execution_count": 1,
   "id": "9b015079",
   "metadata": {},
   "outputs": [
    {
     "name": "stdout",
     "output_type": "stream",
     "text": [
      "Even numbers in the list:  [2, 4, 6, 8, 10]\n"
     ]
    }
   ],
   "source": [
    "list1 = [1,2,3,4,5,6,7,8,9,10]\n",
    " \n",
    "# using list comprehension\n",
    "even_nos = [num for num in list1 if num % 2 == 0]\n",
    " \n",
    "print(\"Even numbers in the list: \", even_nos)"
   ]
  },
  {
   "cell_type": "markdown",
   "id": "4e4ceaae",
   "metadata": {},
   "source": [
    "#  Implement a decorator function called ‘timer’ that measures the execution time of a function. The ‘timer’ decorator should print the time taken by the decorated function to execute. Use the ‘time’ module in Python to calculate the execution time."
   ]
  },
  {
   "cell_type": "code",
   "execution_count": 2,
   "id": "eb744179",
   "metadata": {},
   "outputs": [
    {
     "name": "stdout",
     "output_type": "stream",
     "text": [
      "Function 'long_time' executed in 0.0240s\n"
     ]
    }
   ],
   "source": [
    "from time import time\n",
    "  \n",
    "def timer_func(func):\n",
    "    # This function shows the execution time of \n",
    "    # the function object passed\n",
    "    def wrap_func(*args, **kwargs):\n",
    "        t1 = time()\n",
    "        result = func(*args, **kwargs)\n",
    "        t2 = time()\n",
    "        print(f'Function {func.__name__!r} executed in {(t2-t1):.4f}s')\n",
    "        return result\n",
    "    return wrap_func\n",
    "  \n",
    "@timer_func\n",
    "def long_time(n):\n",
    "    for i in range(n):\n",
    "        for j in range(100000):\n",
    "            i*j\n",
    "  \n",
    "  \n",
    "long_time(5)"
   ]
  },
  {
   "cell_type": "markdown",
   "id": "4bb89850",
   "metadata": {},
   "source": [
    "# Write a function called ‘calculate_mean’ that takes a list of numbers as input and returns the mean (average) of the numbers. The function should calculate the mean using the sum of the numbers divided by the total count."
   ]
  },
  {
   "cell_type": "code",
   "execution_count": 3,
   "id": "cb84c450",
   "metadata": {},
   "outputs": [
    {
     "name": "stdout",
     "output_type": "stream",
     "text": [
      "Average of the list = 35.75\n"
     ]
    }
   ],
   "source": [
    "import numpy\n",
    " \n",
    "# function for finding average\n",
    "def Average(lst):\n",
    "    # average function\n",
    "    avg = numpy.average(lst)\n",
    "    return(avg)\n",
    " \n",
    " \n",
    " # input list\n",
    "lst = [15, 9, 55, 41, 35, 20, 62, 49]\n",
    " \n",
    "# function call\n",
    "print(\"Average of the list =\", round(Average(lst), 2))"
   ]
  },
  {
   "cell_type": "markdown",
   "id": "c3a300d0",
   "metadata": {},
   "source": [
    "# Write a function called ‘perform_hypothesis_test’ that takes two lists of numbers as input, representing two samples. The function should perform a two-sample t-test and return the p-value. Use the ‘scipy.stats’ module in Python to calculate the t-test and p-value."
   ]
  },
  {
   "cell_type": "code",
   "execution_count": 6,
   "id": "a18b0525",
   "metadata": {},
   "outputs": [
    {
     "name": "stdout",
     "output_type": "stream",
     "text": [
      "P-value: 0.09434977284243756\n"
     ]
    }
   ],
   "source": [
    "from scipy import stats\n",
    "\n",
    "def perform_hypothesis_test(sample1, sample2):\n",
    "    t_statistic, p_value = stats.ttest_ind(sample1, sample2)\n",
    "    return p_value\n",
    "\n",
    "sample1 = [5, 10, 15, 20, 25]\n",
    "sample2 = [10, 20, 30, 40, 50]\n",
    "p_value = perform_hypothesis_test(sample1, sample2)\n",
    "print(\"P-value:\", p_value)\n"
   ]
  }
 ],
 "metadata": {
  "kernelspec": {
   "display_name": "Python 3 (ipykernel)",
   "language": "python",
   "name": "python3"
  },
  "language_info": {
   "codemirror_mode": {
    "name": "ipython",
    "version": 3
   },
   "file_extension": ".py",
   "mimetype": "text/x-python",
   "name": "python",
   "nbconvert_exporter": "python",
   "pygments_lexer": "ipython3",
   "version": "3.9.12"
  }
 },
 "nbformat": 4,
 "nbformat_minor": 5
}
